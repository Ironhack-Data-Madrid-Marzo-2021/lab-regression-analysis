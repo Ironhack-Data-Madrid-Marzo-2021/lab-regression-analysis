{
 "cells": [
  {
   "cell_type": "markdown",
   "metadata": {},
   "source": [
    "# Lab: Regression Analysis"
   ]
  },
  {
   "cell_type": "markdown",
   "metadata": {},
   "source": [
    "### Before you start:\n",
    "\n",
    "* Read the README.md file\n",
    "* Comment as much as you can and use the resources (README.md file) \n",
    "\n",
    "Happy learning!"
   ]
  },
  {
   "cell_type": "markdown",
   "metadata": {},
   "source": [
    "## Challenge 1\n",
    "I work at a coding bootcamp, and I have developed a theory that the younger my students are, the more often they are late to class. In order to test my hypothesis, I have collected some data in the following table:\n",
    "\n",
    "| StudentID | Age | Tardies |\n",
    "|--------|-----|------------|\n",
    "| 1      | 17  | 10         |\n",
    "| 2      | 51  | 1          |\n",
    "| 3      | 27  | 5          |\n",
    "| 4      | 21  | 9         |\n",
    "| 5      | 36  |  4         |\n",
    "| 6      | 48  |  2         |\n",
    "| 7      | 19  |  9         |\n",
    "| 8      | 26  | 6          |\n",
    "| 9      | 54  |  0         |\n",
    "| 10     | 30  |  3         |"
   ]
  },
  {
   "cell_type": "markdown",
   "metadata": {},
   "source": [
    "Use this command to create a dataframe with the data provided in the table. \n",
    "~~~~\n",
    "student_data = pd.DataFrame({'X': [x_values], 'Y': [y_values]})\n",
    "~~~~"
   ]
  },
  {
   "cell_type": "code",
   "execution_count": 14,
   "metadata": {},
   "outputs": [],
   "source": [
    "from matplotlib import pyplot as plt\n",
    "from matplotlib import cm\n",
    "\n",
    "import pandas as pd\n",
    "import seaborn as sns\n",
    "\n",
    "import statsmodels.formula.api as smf\n",
    "from sklearn.linear_model import LinearRegression\n",
    "\n",
    "import pandas as pd"
   ]
  },
  {
   "cell_type": "code",
   "execution_count": 72,
   "metadata": {},
   "outputs": [],
   "source": [
    "student_data = pd.DataFrame({'Age': [17, 51, 27, 21, 36, 48, 19, 26, 54, 30], 'Tardies': [10, 1, 5, 9, 4, 2, 9, 6, 0, 3]})"
   ]
  },
  {
   "cell_type": "markdown",
   "metadata": {},
   "source": [
    "Draw a dispersion diagram (scatter plot) for the data."
   ]
  },
  {
   "cell_type": "code",
   "execution_count": 3,
   "metadata": {},
   "outputs": [
    {
     "data": {
      "text/plain": [
       "<AxesSubplot:xlabel='Age', ylabel='Tardies'>"
      ]
     },
     "execution_count": 3,
     "metadata": {},
     "output_type": "execute_result"
    },
    {
     "data": {
      "image/png": "[encoded data removed]",
      "text/plain": [
       "<Figure size 432x288 with 1 Axes>"
      ]
     },
     "metadata": {
      "needs_background": "light"
     },
     "output_type": "display_data"
    }
   ],
   "source": [
    "sns.scatterplot(data=student_data, x=\"Age\", y=\"Tardies\")"
   ]
  },
  {
   "cell_type": "markdown",
   "metadata": {},
   "source": [
    "Do you see a trend? Can you make any hypotheses about the relationship between age and number of tardies?"
   ]
  },
  {
   "cell_type": "markdown",
   "metadata": {},
   "source": [
    "Yes, it seems that these variables have a strong and negative correlation. The hypotheses we can study is if younger people arrives later than older ones."
   ]
  },
  {
   "cell_type": "markdown",
   "metadata": {},
   "source": [
    "Calculate the covariance and correlation of the variables in your plot. What is the difference between these two measures? Compare their values. What do they tell you in this case? Add your responses as comments after your code."
   ]
  },
  {
   "cell_type": "code",
   "execution_count": 4,
   "metadata": {},
   "outputs": [
    {
     "data": {
      "text/html": [
       "<div>\n",
       "<style scoped>\n",
       "    .dataframe tbody tr th:only-of-type {\n",
       "        vertical-align: middle;\n",
       "    }\n",
       "\n",
       "    .dataframe tbody tr th {\n",
       "        vertical-align: top;\n",
       "    }\n",
       "\n",
       "    .dataframe thead th {\n",
       "        text-align: right;\n",
       "    }\n",
       "</style>\n",
       "<table border=\"1\" class=\"dataframe\">\n",
       "  <thead>\n",
       "    <tr style=\"text-align: right;\">\n",
       "      <th></th>\n",
       "      <th>Age</th>\n",
       "      <th>Tardies</th>\n",
       "    </tr>\n",
       "  </thead>\n",
       "  <tbody>\n",
       "    <tr>\n",
       "      <th>Age</th>\n",
       "      <td>187.655556</td>\n",
       "      <td>-45.566667</td>\n",
       "    </tr>\n",
       "    <tr>\n",
       "      <th>Tardies</th>\n",
       "      <td>-45.566667</td>\n",
       "      <td>12.544444</td>\n",
       "    </tr>\n",
       "  </tbody>\n",
       "</table>\n",
       "</div>"
      ],
      "text/plain": [
       "                Age    Tardies\n",
       "Age      187.655556 -45.566667\n",
       "Tardies  -45.566667  12.544444"
      ]
     },
     "execution_count": 4,
     "metadata": {},
     "output_type": "execute_result"
    }
   ],
   "source": [
    "student_data.cov()"
   ]
  },
  {
   "cell_type": "code",
   "execution_count": 5,
   "metadata": {},
   "outputs": [
    {
     "data": {
      "text/html": [
       "<div>\n",
       "<style scoped>\n",
       "    .dataframe tbody tr th:only-of-type {\n",
       "        vertical-align: middle;\n",
       "    }\n",
       "\n",
       "    .dataframe tbody tr th {\n",
       "        vertical-align: top;\n",
       "    }\n",
       "\n",
       "    .dataframe thead th {\n",
       "        text-align: right;\n",
       "    }\n",
       "</style>\n",
       "<table border=\"1\" class=\"dataframe\">\n",
       "  <thead>\n",
       "    <tr style=\"text-align: right;\">\n",
       "      <th></th>\n",
       "      <th>Age</th>\n",
       "      <th>Tardies</th>\n",
       "    </tr>\n",
       "  </thead>\n",
       "  <tbody>\n",
       "    <tr>\n",
       "      <th>Age</th>\n",
       "      <td>1.000000</td>\n",
       "      <td>-0.939163</td>\n",
       "    </tr>\n",
       "    <tr>\n",
       "      <th>Tardies</th>\n",
       "      <td>-0.939163</td>\n",
       "      <td>1.000000</td>\n",
       "    </tr>\n",
       "  </tbody>\n",
       "</table>\n",
       "</div>"
      ],
      "text/plain": [
       "              Age   Tardies\n",
       "Age      1.000000 -0.939163\n",
       "Tardies -0.939163  1.000000"
      ]
     },
     "execution_count": 5,
     "metadata": {},
     "output_type": "execute_result"
    }
   ],
   "source": [
    "student_data.corr()"
   ]
  },
  {
   "cell_type": "markdown",
   "metadata": {},
   "source": [
    "Covariance indicates the direction of the linear relationship between variables while correlation measures both the strength and direction of the linear relationship between two variables.\n",
    "In this case, both values say that the linear relationship is negative."
   ]
  },
  {
   "cell_type": "markdown",
   "metadata": {},
   "source": [
    "Build a regression model for this data. What will be your outcome variable? What type of regression are you using? Add your responses as comments after your code."
   ]
  },
  {
   "cell_type": "code",
   "execution_count": 73,
   "metadata": {},
   "outputs": [],
   "source": [
    "lr = LinearRegression()"
   ]
  },
  {
   "cell_type": "code",
   "execution_count": 74,
   "metadata": {},
   "outputs": [],
   "source": [
    "lr.fit(\n",
    "\n",
    "    X = student_data[[\"Age\"]],\n",
    "    y = student_data.Tardies\n",
    ")\n",
    "beta_1 = lr.coef_[0]\n",
    "beta_0 = lr.intercept_"
   ]
  },
  {
   "cell_type": "code",
   "execution_count": 75,
   "metadata": {},
   "outputs": [
    {
     "data": {
      "text/plain": [
       "-0.2428207709159808"
      ]
     },
     "execution_count": 75,
     "metadata": {},
     "output_type": "execute_result"
    }
   ],
   "source": [
    "beta_1"
   ]
  },
  {
   "cell_type": "code",
   "execution_count": 76,
   "metadata": {},
   "outputs": [
    {
     "data": {
      "text/plain": [
       "12.888803363135768"
      ]
     },
     "execution_count": 76,
     "metadata": {},
     "output_type": "execute_result"
    }
   ],
   "source": [
    "beta_0"
   ]
  },
  {
   "cell_type": "code",
   "execution_count": 77,
   "metadata": {},
   "outputs": [],
   "source": [
    "student_data[\"Age_predict\"] = student_data.Age.mean()"
   ]
  },
  {
   "cell_type": "code",
   "execution_count": null,
   "metadata": {},
   "outputs": [],
   "source": [
    "TSS = ((student_data.Age - student_data.mean_predict) **2 ).sum()\n",
    "TSS"
   ]
  },
  {
   "cell_type": "markdown",
   "metadata": {},
   "source": [
    "In this linear regression, our outcome will be the sum of beta_1 (multiply by the age) plus the intercept, which is beta_0."
   ]
  },
  {
   "cell_type": "markdown",
   "metadata": {},
   "source": [
    "Plot your regression model on your scatter plot."
   ]
  },
  {
   "cell_type": "code",
   "execution_count": 17,
   "metadata": {},
   "outputs": [
    {
     "data": {
      "text/plain": [
       "<function matplotlib.pyplot.show(close=None, block=None)>"
      ]
     },
     "execution_count": 17,
     "metadata": {},
     "output_type": "execute_result"
    },
    {
     "data": {
      "image/png": "[encoded data removed]",
      "text/plain": [
       "<Figure size 432x288 with 1 Axes>"
      ]
     },
     "metadata": {
      "needs_background": "light"
     },
     "output_type": "display_data"
    }
   ],
   "source": [
    "y_hat = beta_0 + beta_1 * student_data.Age #Línea de regresión\n",
    "plt.scatter(data = student_data, x = \"Age\", y = \"Tardies\") # pintar los puntos\n",
    "plt.plot(student_data.Age, y_hat, lw=2) # pintamos la línea de regresión\n",
    "plt.vlines(student_data.Age, y_hat, student_data.Tardies , lw = 0.4) # pintamos las líneas que van desde los puntos a la línea\n",
    "plt.xlabel(\"Age\")\n",
    "plt.ylabel(\"Tardies\")\n",
    "plt.show"
   ]
  },
  {
   "cell_type": "markdown",
   "metadata": {},
   "source": [
    "Interpret the results of your model. What can conclusions can you draw from your model and how confident in these conclusions are you? Can we say that age is a good predictor of tardiness? Add your responses as comments after your code."
   ]
  },
  {
   "cell_type": "code",
   "execution_count": 3,
   "metadata": {},
   "outputs": [],
   "source": [
    "#Comments"
   ]
  },
  {
   "cell_type": "markdown",
   "metadata": {},
   "source": [
    "## Challenge 2\n",
    "For the second part of this lab, we will use the vehicles.csv data set. You can find a copy of the dataset in the git hub folder. This dataset includes variables related to vehicle characteristics, including the model, make, and energy efficiency standards, as well as each car's CO2 emissions. As discussed in class the goal of this exercise is to predict vehicles' CO2 emissions based on several independent variables. "
   ]
  },
  {
   "cell_type": "code",
   "execution_count": 44,
   "metadata": {},
   "outputs": [],
   "source": [
    "vehicles = pd.read_csv(\"./vehicles.csv\")"
   ]
  },
  {
   "cell_type": "code",
   "execution_count": 45,
   "metadata": {},
   "outputs": [
    {
     "data": {
      "text/html": [
       "<div>\n",
       "<style scoped>\n",
       "    .dataframe tbody tr th:only-of-type {\n",
       "        vertical-align: middle;\n",
       "    }\n",
       "\n",
       "    .dataframe tbody tr th {\n",
       "        vertical-align: top;\n",
       "    }\n",
       "\n",
       "    .dataframe thead th {\n",
       "        text-align: right;\n",
       "    }\n",
       "</style>\n",
       "<table border=\"1\" class=\"dataframe\">\n",
       "  <thead>\n",
       "    <tr style=\"text-align: right;\">\n",
       "      <th></th>\n",
       "      <th>Make</th>\n",
       "      <th>Model</th>\n",
       "      <th>Year</th>\n",
       "      <th>Engine Displacement</th>\n",
       "      <th>Cylinders</th>\n",
       "      <th>Transmission</th>\n",
       "      <th>Drivetrain</th>\n",
       "      <th>Vehicle Class</th>\n",
       "      <th>Fuel Type</th>\n",
       "      <th>Fuel Barrels/Year</th>\n",
       "      <th>City MPG</th>\n",
       "      <th>Highway MPG</th>\n",
       "      <th>Combined MPG</th>\n",
       "      <th>CO2 Emission Grams/Mile</th>\n",
       "      <th>Fuel Cost/Year</th>\n",
       "    </tr>\n",
       "  </thead>\n",
       "  <tbody>\n",
       "    <tr>\n",
       "      <th>0</th>\n",
       "      <td>AM General</td>\n",
       "      <td>DJ Po Vehicle 2WD</td>\n",
       "      <td>1984</td>\n",
       "      <td>2.5</td>\n",
       "      <td>4.0</td>\n",
       "      <td>Automatic 3-spd</td>\n",
       "      <td>2-Wheel Drive</td>\n",
       "      <td>Special Purpose Vehicle 2WD</td>\n",
       "      <td>Regular</td>\n",
       "      <td>19.388824</td>\n",
       "      <td>18</td>\n",
       "      <td>17</td>\n",
       "      <td>17</td>\n",
       "      <td>522.764706</td>\n",
       "      <td>1950</td>\n",
       "    </tr>\n",
       "    <tr>\n",
       "      <th>1</th>\n",
       "      <td>AM General</td>\n",
       "      <td>FJ8c Post Office</td>\n",
       "      <td>1984</td>\n",
       "      <td>4.2</td>\n",
       "      <td>6.0</td>\n",
       "      <td>Automatic 3-spd</td>\n",
       "      <td>2-Wheel Drive</td>\n",
       "      <td>Special Purpose Vehicle 2WD</td>\n",
       "      <td>Regular</td>\n",
       "      <td>25.354615</td>\n",
       "      <td>13</td>\n",
       "      <td>13</td>\n",
       "      <td>13</td>\n",
       "      <td>683.615385</td>\n",
       "      <td>2550</td>\n",
       "    </tr>\n",
       "    <tr>\n",
       "      <th>2</th>\n",
       "      <td>AM General</td>\n",
       "      <td>Post Office DJ5 2WD</td>\n",
       "      <td>1985</td>\n",
       "      <td>2.5</td>\n",
       "      <td>4.0</td>\n",
       "      <td>Automatic 3-spd</td>\n",
       "      <td>Rear-Wheel Drive</td>\n",
       "      <td>Special Purpose Vehicle 2WD</td>\n",
       "      <td>Regular</td>\n",
       "      <td>20.600625</td>\n",
       "      <td>16</td>\n",
       "      <td>17</td>\n",
       "      <td>16</td>\n",
       "      <td>555.437500</td>\n",
       "      <td>2100</td>\n",
       "    </tr>\n",
       "    <tr>\n",
       "      <th>3</th>\n",
       "      <td>AM General</td>\n",
       "      <td>Post Office DJ8 2WD</td>\n",
       "      <td>1985</td>\n",
       "      <td>4.2</td>\n",
       "      <td>6.0</td>\n",
       "      <td>Automatic 3-spd</td>\n",
       "      <td>Rear-Wheel Drive</td>\n",
       "      <td>Special Purpose Vehicle 2WD</td>\n",
       "      <td>Regular</td>\n",
       "      <td>25.354615</td>\n",
       "      <td>13</td>\n",
       "      <td>13</td>\n",
       "      <td>13</td>\n",
       "      <td>683.615385</td>\n",
       "      <td>2550</td>\n",
       "    </tr>\n",
       "    <tr>\n",
       "      <th>4</th>\n",
       "      <td>ASC Incorporated</td>\n",
       "      <td>GNX</td>\n",
       "      <td>1987</td>\n",
       "      <td>3.8</td>\n",
       "      <td>6.0</td>\n",
       "      <td>Automatic 4-spd</td>\n",
       "      <td>Rear-Wheel Drive</td>\n",
       "      <td>Midsize Cars</td>\n",
       "      <td>Premium</td>\n",
       "      <td>20.600625</td>\n",
       "      <td>14</td>\n",
       "      <td>21</td>\n",
       "      <td>16</td>\n",
       "      <td>555.437500</td>\n",
       "      <td>2550</td>\n",
       "    </tr>\n",
       "  </tbody>\n",
       "</table>\n",
       "</div>"
      ],
      "text/plain": [
       "               Make                Model  Year  Engine Displacement  \\\n",
       "0        AM General    DJ Po Vehicle 2WD  1984                  2.5   \n",
       "1        AM General     FJ8c Post Office  1984                  4.2   \n",
       "2        AM General  Post Office DJ5 2WD  1985                  2.5   \n",
       "3        AM General  Post Office DJ8 2WD  1985                  4.2   \n",
       "4  ASC Incorporated                  GNX  1987                  3.8   \n",
       "\n",
       "   Cylinders     Transmission        Drivetrain                Vehicle Class  \\\n",
       "0        4.0  Automatic 3-spd     2-Wheel Drive  Special Purpose Vehicle 2WD   \n",
       "1        6.0  Automatic 3-spd     2-Wheel Drive  Special Purpose Vehicle 2WD   \n",
       "2        4.0  Automatic 3-spd  Rear-Wheel Drive  Special Purpose Vehicle 2WD   \n",
       "3        6.0  Automatic 3-spd  Rear-Wheel Drive  Special Purpose Vehicle 2WD   \n",
       "4        6.0  Automatic 4-spd  Rear-Wheel Drive                 Midsize Cars   \n",
       "\n",
       "  Fuel Type  Fuel Barrels/Year  City MPG  Highway MPG  Combined MPG  \\\n",
       "0   Regular          19.388824        18           17            17   \n",
       "1   Regular          25.354615        13           13            13   \n",
       "2   Regular          20.600625        16           17            16   \n",
       "3   Regular          25.354615        13           13            13   \n",
       "4   Premium          20.600625        14           21            16   \n",
       "\n",
       "   CO2 Emission Grams/Mile  Fuel Cost/Year  \n",
       "0               522.764706            1950  \n",
       "1               683.615385            2550  \n",
       "2               555.437500            2100  \n",
       "3               683.615385            2550  \n",
       "4               555.437500            2550  "
      ]
     },
     "execution_count": 45,
     "metadata": {},
     "output_type": "execute_result"
    }
   ],
   "source": [
    "vehicles.head()"
   ]
  },
  {
   "cell_type": "markdown",
   "metadata": {},
   "source": [
    "Let's use the following variables for our analysis: Year, Cylinders, Fuel Barrels/Year, Combined MPG, and Fuel Cost/Year. We will use 'CO2 Emission Grams/Mile' as our outcome variable. \n",
    "\n",
    "Calculate the correlations between each of these variables and the outcome. Which variable do you think will be the most important in determining CO2 emissions? Which provides the least amount of helpful information for determining CO2 emissions? Add your responses as comments after your code."
   ]
  },
  {
   "cell_type": "code",
   "execution_count": 69,
   "metadata": {},
   "outputs": [
    {
     "data": {
      "text/plain": [
       "<AxesSubplot:>"
      ]
     },
     "execution_count": 69,
     "metadata": {},
     "output_type": "execute_result"
    },
    {
     "data": {
      "image/png": "[encoded data removed]",
      "text/plain": [
       "<Figure size 432x288 with 2 Axes>"
      ]
     },
     "metadata": {
      "needs_background": "light"
     },
     "output_type": "display_data"
    }
   ],
   "source": [
    "sns.heatmap(vehicles.corr(), vmin=0, vmax=1, annot=True, cmap='rocket_r')"
   ]
  },
  {
   "cell_type": "markdown",
   "metadata": {},
   "source": [
    "As qe can see in the heatmap of the correlations, the variable more correlated with our dependent variable is Fuel Barrels/Year (99% correlated).\n",
    "\n",
    "On the other hand, the less correlated variable is Year(just a 22% in a negative direction)."
   ]
  },
  {
   "cell_type": "markdown",
   "metadata": {},
   "source": [
    "Build a regression model for this data. What type of regression are you using? Add your responses as comments after your code."
   ]
  },
  {
   "cell_type": "code",
   "execution_count": 46,
   "metadata": {},
   "outputs": [],
   "source": [
    "vehicles.rename(columns = {\"CO2 Emission Grams/Mile\": \"CO2_Emissions\", \"Fuel Barrels/Year\": \"Fuel_Barrels\", \"Combined MPG\": \"Combined_MPG\", \"Fuel Cost/Year\": \"Fuel_Cost\"}, inplace = True)"
   ]
  },
  {
   "cell_type": "code",
   "execution_count": 70,
   "metadata": {},
   "outputs": [
    {
     "data": {
      "text/html": [
       "<table class=\"simpletable\">\n",
       "<caption>OLS Regression Results</caption>\n",
       "<tr>\n",
       "  <th>Dep. Variable:</th>      <td>CO2_Emissions</td>  <th>  R-squared:         </th>  <td>   0.996</td>  \n",
       "</tr>\n",
       "<tr>\n",
       "  <th>Model:</th>                   <td>OLS</td>       <th>  Adj. R-squared:    </th>  <td>   0.996</td>  \n",
       "</tr>\n",
       "<tr>\n",
       "  <th>Method:</th>             <td>Least Squares</td>  <th>  F-statistic:       </th>  <td>3.406e+05</td> \n",
       "</tr>\n",
       "<tr>\n",
       "  <th>Date:</th>             <td>Tue, 27 Apr 2021</td> <th>  Prob (F-statistic):</th>   <td>  0.00</td>   \n",
       "</tr>\n",
       "<tr>\n",
       "  <th>Time:</th>                 <td>18:28:10</td>     <th>  Log-Likelihood:    </th> <td>-1.2121e+05</td>\n",
       "</tr>\n",
       "<tr>\n",
       "  <th>No. Observations:</th>      <td> 35952</td>      <th>  AIC:               </th>  <td>2.425e+05</td> \n",
       "</tr>\n",
       "<tr>\n",
       "  <th>Df Residuals:</th>          <td> 35921</td>      <th>  BIC:               </th>  <td>2.428e+05</td> \n",
       "</tr>\n",
       "<tr>\n",
       "  <th>Df Model:</th>              <td>    30</td>      <th>                     </th>      <td> </td>     \n",
       "</tr>\n",
       "<tr>\n",
       "  <th>Covariance Type:</th>      <td>nonrobust</td>    <th>                     </th>      <td> </td>     \n",
       "</tr>\n",
       "</table>\n",
       "<table class=\"simpletable\">\n",
       "<tr>\n",
       "                           <td></td>                             <th>coef</th>     <th>std err</th>      <th>t</th>      <th>P>|t|</th>  <th>[0.025</th>    <th>0.975]</th>  \n",
       "</tr>\n",
       "<tr>\n",
       "  <th>Intercept</th>                                          <td>-4.786e+04</td> <td> 3244.390</td> <td>  -14.752</td> <td> 0.000</td> <td>-5.42e+04</td> <td>-4.15e+04</td>\n",
       "</tr>\n",
       "<tr>\n",
       "  <th>Year</th>                                               <td>   24.1647</td> <td>    1.618</td> <td>   14.936</td> <td> 0.000</td> <td>   20.993</td> <td>   27.336</td>\n",
       "</tr>\n",
       "<tr>\n",
       "  <th>Cylinders</th>                                          <td> 7563.0138</td> <td>  589.432</td> <td>   12.831</td> <td> 0.000</td> <td> 6407.709</td> <td> 8718.319</td>\n",
       "</tr>\n",
       "<tr>\n",
       "  <th>Year:Cylinders</th>                                     <td>   -3.8099</td> <td>    0.294</td> <td>  -12.950</td> <td> 0.000</td> <td>   -4.386</td> <td>   -3.233</td>\n",
       "</tr>\n",
       "<tr>\n",
       "  <th>Fuel_Barrels</th>                                       <td> 1862.8536</td> <td>   92.995</td> <td>   20.032</td> <td> 0.000</td> <td> 1680.581</td> <td> 2045.126</td>\n",
       "</tr>\n",
       "<tr>\n",
       "  <th>Year:Fuel_Barrels</th>                                  <td>   -0.9215</td> <td>    0.046</td> <td>  -19.850</td> <td> 0.000</td> <td>   -1.012</td> <td>   -0.830</td>\n",
       "</tr>\n",
       "<tr>\n",
       "  <th>Cylinders:Fuel_Barrels</th>                             <td> -276.4610</td> <td>   13.899</td> <td>  -19.890</td> <td> 0.000</td> <td> -303.704</td> <td> -249.218</td>\n",
       "</tr>\n",
       "<tr>\n",
       "  <th>Year:Cylinders:Fuel_Barrels</th>                        <td>    0.1380</td> <td>    0.007</td> <td>   19.882</td> <td> 0.000</td> <td>    0.124</td> <td>    0.152</td>\n",
       "</tr>\n",
       "<tr>\n",
       "  <th>Combined_MPG</th>                                       <td>  197.6185</td> <td>   29.458</td> <td>    6.708</td> <td> 0.000</td> <td>  139.879</td> <td>  255.358</td>\n",
       "</tr>\n",
       "<tr>\n",
       "  <th>Year:Combined_MPG</th>                                  <td>   -0.0993</td> <td>    0.015</td> <td>   -6.733</td> <td> 0.000</td> <td>   -0.128</td> <td>   -0.070</td>\n",
       "</tr>\n",
       "<tr>\n",
       "  <th>Cylinders:Combined_MPG</th>                             <td>  -39.4447</td> <td>    7.484</td> <td>   -5.270</td> <td> 0.000</td> <td>  -54.114</td> <td>  -24.775</td>\n",
       "</tr>\n",
       "<tr>\n",
       "  <th>Year:Cylinders:Combined_MPG</th>                        <td>    0.0197</td> <td>    0.004</td> <td>    5.269</td> <td> 0.000</td> <td>    0.012</td> <td>    0.027</td>\n",
       "</tr>\n",
       "<tr>\n",
       "  <th>Fuel_Barrels:Combined_MPG</th>                          <td>   42.6884</td> <td>    8.518</td> <td>    5.011</td> <td> 0.000</td> <td>   25.992</td> <td>   59.385</td>\n",
       "</tr>\n",
       "<tr>\n",
       "  <th>Year:Fuel_Barrels:Combined_MPG</th>                     <td>   -0.0220</td> <td>    0.004</td> <td>   -5.182</td> <td> 0.000</td> <td>   -0.030</td> <td>   -0.014</td>\n",
       "</tr>\n",
       "<tr>\n",
       "  <th>Cylinders:Fuel_Barrels:Combined_MPG</th>                <td>   -6.2065</td> <td>    1.511</td> <td>   -4.109</td> <td> 0.000</td> <td>   -9.167</td> <td>   -3.246</td>\n",
       "</tr>\n",
       "<tr>\n",
       "  <th>Year:Cylinders:Fuel_Barrels:Combined_MPG</th>           <td>    0.0032</td> <td>    0.001</td> <td>    4.283</td> <td> 0.000</td> <td>    0.002</td> <td>    0.005</td>\n",
       "</tr>\n",
       "<tr>\n",
       "  <th>Fuel_Cost</th>                                          <td>   38.0231</td> <td>    2.079</td> <td>   18.290</td> <td> 0.000</td> <td>   33.948</td> <td>   42.098</td>\n",
       "</tr>\n",
       "<tr>\n",
       "  <th>Year:Fuel_Cost</th>                                     <td>   -0.0191</td> <td>    0.001</td> <td>  -18.459</td> <td> 0.000</td> <td>   -0.021</td> <td>   -0.017</td>\n",
       "</tr>\n",
       "<tr>\n",
       "  <th>Cylinders:Fuel_Cost</th>                                <td>   -6.7490</td> <td>    0.307</td> <td>  -22.017</td> <td> 0.000</td> <td>   -7.350</td> <td>   -6.148</td>\n",
       "</tr>\n",
       "<tr>\n",
       "  <th>Year:Cylinders:Fuel_Cost</th>                           <td>    0.0034</td> <td>    0.000</td> <td>   22.278</td> <td> 0.000</td> <td>    0.003</td> <td>    0.004</td>\n",
       "</tr>\n",
       "<tr>\n",
       "  <th>Fuel_Barrels:Fuel_Cost</th>                             <td>    0.0995</td> <td>    0.017</td> <td>    5.964</td> <td> 0.000</td> <td>    0.067</td> <td>    0.132</td>\n",
       "</tr>\n",
       "<tr>\n",
       "  <th>Year:Fuel_Barrels:Fuel_Cost</th>                        <td>-4.914e-05</td> <td> 8.34e-06</td> <td>   -5.892</td> <td> 0.000</td> <td>-6.55e-05</td> <td>-3.28e-05</td>\n",
       "</tr>\n",
       "<tr>\n",
       "  <th>Cylinders:Fuel_Barrels:Fuel_Cost</th>                   <td>   -0.0034</td> <td>    0.002</td> <td>   -1.614</td> <td> 0.107</td> <td>   -0.008</td> <td>    0.001</td>\n",
       "</tr>\n",
       "<tr>\n",
       "  <th>Year:Cylinders:Fuel_Barrels:Fuel_Cost</th>              <td> 1.646e-06</td> <td> 1.07e-06</td> <td>    1.540</td> <td> 0.124</td> <td> -4.5e-07</td> <td> 3.74e-06</td>\n",
       "</tr>\n",
       "<tr>\n",
       "  <th>Combined_MPG:Fuel_Cost</th>                             <td>    0.7868</td> <td>    0.051</td> <td>   15.569</td> <td> 0.000</td> <td>    0.688</td> <td>    0.886</td>\n",
       "</tr>\n",
       "<tr>\n",
       "  <th>Year:Combined_MPG:Fuel_Cost</th>                        <td>   -0.0004</td> <td> 2.52e-05</td> <td>  -15.589</td> <td> 0.000</td> <td>   -0.000</td> <td>   -0.000</td>\n",
       "</tr>\n",
       "<tr>\n",
       "  <th>Cylinders:Combined_MPG:Fuel_Cost</th>                   <td>   -0.1119</td> <td>    0.008</td> <td>  -13.686</td> <td> 0.000</td> <td>   -0.128</td> <td>   -0.096</td>\n",
       "</tr>\n",
       "<tr>\n",
       "  <th>Year:Cylinders:Combined_MPG:Fuel_Cost</th>              <td> 5.552e-05</td> <td> 4.08e-06</td> <td>   13.607</td> <td> 0.000</td> <td> 4.75e-05</td> <td> 6.35e-05</td>\n",
       "</tr>\n",
       "<tr>\n",
       "  <th>Fuel_Barrels:Combined_MPG:Fuel_Cost</th>                <td>   -0.1686</td> <td>    0.007</td> <td>  -25.487</td> <td> 0.000</td> <td>   -0.182</td> <td>   -0.156</td>\n",
       "</tr>\n",
       "<tr>\n",
       "  <th>Year:Fuel_Barrels:Combined_MPG:Fuel_Cost</th>           <td> 8.465e-05</td> <td>  3.3e-06</td> <td>   25.675</td> <td> 0.000</td> <td> 7.82e-05</td> <td> 9.11e-05</td>\n",
       "</tr>\n",
       "<tr>\n",
       "  <th>Cylinders:Fuel_Barrels:Combined_MPG:Fuel_Cost</th>      <td>    0.0271</td> <td>    0.001</td> <td>   27.269</td> <td> 0.000</td> <td>    0.025</td> <td>    0.029</td>\n",
       "</tr>\n",
       "<tr>\n",
       "  <th>Year:Cylinders:Fuel_Barrels:Combined_MPG:Fuel_Cost</th> <td>-1.365e-05</td> <td> 4.97e-07</td> <td>  -27.491</td> <td> 0.000</td> <td>-1.46e-05</td> <td>-1.27e-05</td>\n",
       "</tr>\n",
       "</table>\n",
       "<table class=\"simpletable\">\n",
       "<tr>\n",
       "  <th>Omnibus:</th>       <td>40378.652</td> <th>  Durbin-Watson:     </th>   <td>   1.105</td>  \n",
       "</tr>\n",
       "<tr>\n",
       "  <th>Prob(Omnibus):</th>  <td> 0.000</td>   <th>  Jarque-Bera (JB):  </th> <td>26341691.956</td>\n",
       "</tr>\n",
       "<tr>\n",
       "  <th>Skew:</th>           <td> 5.092</td>   <th>  Prob(JB):          </th>   <td>    0.00</td>  \n",
       "</tr>\n",
       "<tr>\n",
       "  <th>Kurtosis:</th>       <td>135.215</td>  <th>  Cond. No.          </th>   <td>7.90e+14</td>  \n",
       "</tr>\n",
       "</table><br/><br/>Warnings:<br/>[1] Standard Errors assume that the covariance matrix of the errors is correctly specified.<br/>[2] The condition number is large, 7.9e+14. This might indicate that there are<br/>strong multicollinearity or other numerical problems."
      ],
      "text/plain": [
       "<class 'statsmodels.iolib.summary.Summary'>\n",
       "\"\"\"\n",
       "                            OLS Regression Results                            \n",
       "==============================================================================\n",
       "Dep. Variable:          CO2_Emissions   R-squared:                       0.996\n",
       "Model:                            OLS   Adj. R-squared:                  0.996\n",
       "Method:                 Least Squares   F-statistic:                 3.406e+05\n",
       "Date:                Tue, 27 Apr 2021   Prob (F-statistic):               0.00\n",
       "Time:                        18:28:10   Log-Likelihood:            -1.2121e+05\n",
       "No. Observations:               35952   AIC:                         2.425e+05\n",
       "Df Residuals:                   35921   BIC:                         2.428e+05\n",
       "Df Model:                          30                                         \n",
       "Covariance Type:            nonrobust                                         \n",
       "======================================================================================================================\n",
       "                                                         coef    std err          t      P>|t|      [0.025      0.975]\n",
       "----------------------------------------------------------------------------------------------------------------------\n",
       "Intercept                                          -4.786e+04   3244.390    -14.752      0.000   -5.42e+04   -4.15e+04\n",
       "Year                                                  24.1647      1.618     14.936      0.000      20.993      27.336\n",
       "Cylinders                                           7563.0138    589.432     12.831      0.000    6407.709    8718.319\n",
       "Year:Cylinders                                        -3.8099      0.294    -12.950      0.000      -4.386      -3.233\n",
       "Fuel_Barrels                                        1862.8536     92.995     20.032      0.000    1680.581    2045.126\n",
       "Year:Fuel_Barrels                                     -0.9215      0.046    -19.850      0.000      -1.012      -0.830\n",
       "Cylinders:Fuel_Barrels                              -276.4610     13.899    -19.890      0.000    -303.704    -249.218\n",
       "Year:Cylinders:Fuel_Barrels                            0.1380      0.007     19.882      0.000       0.124       0.152\n",
       "Combined_MPG                                         197.6185     29.458      6.708      0.000     139.879     255.358\n",
       "Year:Combined_MPG                                     -0.0993      0.015     -6.733      0.000      -0.128      -0.070\n",
       "Cylinders:Combined_MPG                               -39.4447      7.484     -5.270      0.000     -54.114     -24.775\n",
       "Year:Cylinders:Combined_MPG                            0.0197      0.004      5.269      0.000       0.012       0.027\n",
       "Fuel_Barrels:Combined_MPG                             42.6884      8.518      5.011      0.000      25.992      59.385\n",
       "Year:Fuel_Barrels:Combined_MPG                        -0.0220      0.004     -5.182      0.000      -0.030      -0.014\n",
       "Cylinders:Fuel_Barrels:Combined_MPG                   -6.2065      1.511     -4.109      0.000      -9.167      -3.246\n",
       "Year:Cylinders:Fuel_Barrels:Combined_MPG               0.0032      0.001      4.283      0.000       0.002       0.005\n",
       "Fuel_Cost                                             38.0231      2.079     18.290      0.000      33.948      42.098\n",
       "Year:Fuel_Cost                                        -0.0191      0.001    -18.459      0.000      -0.021      -0.017\n",
       "Cylinders:Fuel_Cost                                   -6.7490      0.307    -22.017      0.000      -7.350      -6.148\n",
       "Year:Cylinders:Fuel_Cost                               0.0034      0.000     22.278      0.000       0.003       0.004\n",
       "Fuel_Barrels:Fuel_Cost                                 0.0995      0.017      5.964      0.000       0.067       0.132\n",
       "Year:Fuel_Barrels:Fuel_Cost                        -4.914e-05   8.34e-06     -5.892      0.000   -6.55e-05   -3.28e-05\n",
       "Cylinders:Fuel_Barrels:Fuel_Cost                      -0.0034      0.002     -1.614      0.107      -0.008       0.001\n",
       "Year:Cylinders:Fuel_Barrels:Fuel_Cost               1.646e-06   1.07e-06      1.540      0.124    -4.5e-07    3.74e-06\n",
       "Combined_MPG:Fuel_Cost                                 0.7868      0.051     15.569      0.000       0.688       0.886\n",
       "Year:Combined_MPG:Fuel_Cost                           -0.0004   2.52e-05    -15.589      0.000      -0.000      -0.000\n",
       "Cylinders:Combined_MPG:Fuel_Cost                      -0.1119      0.008    -13.686      0.000      -0.128      -0.096\n",
       "Year:Cylinders:Combined_MPG:Fuel_Cost               5.552e-05   4.08e-06     13.607      0.000    4.75e-05    6.35e-05\n",
       "Fuel_Barrels:Combined_MPG:Fuel_Cost                   -0.1686      0.007    -25.487      0.000      -0.182      -0.156\n",
       "Year:Fuel_Barrels:Combined_MPG:Fuel_Cost            8.465e-05    3.3e-06     25.675      0.000    7.82e-05    9.11e-05\n",
       "Cylinders:Fuel_Barrels:Combined_MPG:Fuel_Cost          0.0271      0.001     27.269      0.000       0.025       0.029\n",
       "Year:Cylinders:Fuel_Barrels:Combined_MPG:Fuel_Cost -1.365e-05   4.97e-07    -27.491      0.000   -1.46e-05   -1.27e-05\n",
       "==============================================================================\n",
       "Omnibus:                    40378.652   Durbin-Watson:                   1.105\n",
       "Prob(Omnibus):                  0.000   Jarque-Bera (JB):         26341691.956\n",
       "Skew:                           5.092   Prob(JB):                         0.00\n",
       "Kurtosis:                     135.215   Cond. No.                     7.90e+14\n",
       "==============================================================================\n",
       "\n",
       "Warnings:\n",
       "[1] Standard Errors assume that the covariance matrix of the errors is correctly specified.\n",
       "[2] The condition number is large, 7.9e+14. This might indicate that there are\n",
       "strong multicollinearity or other numerical problems.\n",
       "\"\"\""
      ]
     },
     "execution_count": 70,
     "metadata": {},
     "output_type": "execute_result"
    }
   ],
   "source": [
    "results = smf.ols(\"CO2_Emissions ~ Year * Cylinders * Fuel_Barrels * Combined_MPG * Fuel_Cost\", data= vehicles).fit()\n",
    "results.summary()"
   ]
  },
  {
   "cell_type": "markdown",
   "metadata": {},
   "source": [
    "Print your regression summary, and interpret the results. What are the most important varibles in your model and why? What can conclusions can you draw from your model and how confident in these conclusions are you? Add your responses as comments after your code."
   ]
  },
  {
   "cell_type": "markdown",
   "metadata": {},
   "source": [
    "From this model, our conclussions are:\n",
    "    \n",
    "**All the variables are significative in the model.\n",
    "The model is similar to the reality because the R-squared is nearly 100.\n",
    "The intercept has a large value.\n",
    "The variables with less impact are Year and Fuel Cost/Year.**\n"
   ]
  },
  {
   "cell_type": "markdown",
   "metadata": {},
   "source": [
    "## Bonus Challenge: Error Analysis"
   ]
  },
  {
   "cell_type": "markdown",
   "metadata": {},
   "source": [
    "I am suspicious about the last few parties I have thrown: it seems that the more people I invite the more people are unable to attend. To know if my hunch is supported by data, I have decided to do an analysis. I have collected my data in the table below, where X is the number of people I invited, and Y is the number of people who attended. \n",
    "\n",
    "|  X |  Y |\n",
    "|----|----|\n",
    "| 1  |  1 |\n",
    "| 3  |  2 |\n",
    "| 4  |  4 |\n",
    "| 6  |  4 |\n",
    "| 8  |  5 |\n",
    "| 9  |  7 |\n",
    "| 11 |  8 |\n",
    "| 14 |  13 |"
   ]
  },
  {
   "cell_type": "markdown",
   "metadata": {},
   "source": [
    "We want to know if the relationship modeled by the two random variables is linear or not, and therefore if it is appropriate to model it with a linear regression. \n",
    "First, build a dataframe with the data. "
   ]
  },
  {
   "cell_type": "code",
   "execution_count": 51,
   "metadata": {},
   "outputs": [],
   "source": [
    "party = pd.DataFrame({\"X\": [1, 3, 4, 6, 8, 9, 11, 14], \"Y\": [1, 2, 4, 4, 5, 7, 8, 13]}) "
   ]
  },
  {
   "cell_type": "markdown",
   "metadata": {},
   "source": [
    "Draw a dispersion diagram (scatter plot) for the data, and fit a regression line."
   ]
  },
  {
   "cell_type": "code",
   "execution_count": 53,
   "metadata": {},
   "outputs": [
    {
     "data": {
      "text/plain": [
       "<AxesSubplot:xlabel='X', ylabel='Y'>"
      ]
     },
     "execution_count": 53,
     "metadata": {},
     "output_type": "execute_result"
    },
    {
     "data": {
      "image/png": "[encoded data removed]",
      "text/plain": [
       "<Figure size 432x288 with 1 Axes>"
      ]
     },
     "metadata": {
      "needs_background": "light"
     },
     "output_type": "display_data"
    }
   ],
   "source": [
    "sns.scatterplot(data=party, x=\"X\", y=\"Y\")"
   ]
  },
  {
   "cell_type": "code",
   "execution_count": 54,
   "metadata": {},
   "outputs": [],
   "source": [
    "lr.fit(\n",
    "\n",
    "    X = party[[\"X\"]],\n",
    "    y = party.Y\n",
    ")\n",
    "beta_1 = lr.coef_[0]\n",
    "beta_0 = lr.intercept_"
   ]
  },
  {
   "cell_type": "code",
   "execution_count": 55,
   "metadata": {},
   "outputs": [
    {
     "data": {
      "text/plain": [
       "0.8484848484848485"
      ]
     },
     "execution_count": 55,
     "metadata": {},
     "output_type": "execute_result"
    }
   ],
   "source": [
    "beta_1"
   ]
  },
  {
   "cell_type": "code",
   "execution_count": 56,
   "metadata": {},
   "outputs": [
    {
     "data": {
      "text/plain": [
       "-0.43939393939393945"
      ]
     },
     "execution_count": 56,
     "metadata": {},
     "output_type": "execute_result"
    }
   ],
   "source": [
    "beta_0"
   ]
  },
  {
   "cell_type": "code",
   "execution_count": 57,
   "metadata": {},
   "outputs": [
    {
     "data": {
      "text/plain": [
       "<function matplotlib.pyplot.show(close=None, block=None)>"
      ]
     },
     "execution_count": 57,
     "metadata": {},
     "output_type": "execute_result"
    },
    {
     "data": {
      "image/png": "[encoded data removed]",
      "text/plain": [
       "<Figure size 432x288 with 1 Axes>"
      ]
     },
     "metadata": {
      "needs_background": "light"
     },
     "output_type": "display_data"
    }
   ],
   "source": [
    "y_hat = beta_0 + beta_1 * party.X #Línea de regresión\n",
    "plt.scatter(data = party, x = \"X\", y = \"Y\") # pintar los puntos\n",
    "plt.plot(party.X, y_hat, lw=2) # pintamos la línea de regresión\n",
    "plt.vlines(party.X, y_hat, party.Y , lw = 0.4) # pintamos las líneas que van desde los puntos a la línea\n",
    "plt.xlabel(\"X\")\n",
    "plt.ylabel(\"Y\")\n",
    "plt.show"
   ]
  },
  {
   "cell_type": "markdown",
   "metadata": {},
   "source": [
    "What do you see? What does this plot tell you about the likely relationship between the variables? Print the results from your regression."
   ]
  },
  {
   "cell_type": "code",
   "execution_count": 2,
   "metadata": {},
   "outputs": [],
   "source": [
    "#Comments"
   ]
  },
  {
   "cell_type": "markdown",
   "metadata": {},
   "source": [
    "Do you see any problematic points, or outliers, in your data? Remove these points and recalculate your regression. Print the new dispersion diagram with your new model and the results of your model. "
   ]
  },
  {
   "cell_type": "code",
   "execution_count": 62,
   "metadata": {},
   "outputs": [],
   "source": [
    "party.drop(index = 7, inplace = True)"
   ]
  },
  {
   "cell_type": "code",
   "execution_count": 64,
   "metadata": {},
   "outputs": [],
   "source": [
    "lr.fit(\n",
    "\n",
    "    X = party[[\"X\"]],\n",
    "    y = party.Y\n",
    ")\n",
    "beta_1 = lr.coef_[0]\n",
    "beta_0 = lr.intercept_"
   ]
  },
  {
   "cell_type": "code",
   "execution_count": 66,
   "metadata": {},
   "outputs": [
    {
     "data": {
      "text/plain": [
       "0.6842105263157896"
      ]
     },
     "execution_count": 66,
     "metadata": {},
     "output_type": "execute_result"
    }
   ],
   "source": [
    "beta_1"
   ]
  },
  {
   "cell_type": "code",
   "execution_count": 67,
   "metadata": {},
   "outputs": [
    {
     "data": {
      "text/plain": [
       "0.32330827067669077"
      ]
     },
     "execution_count": 67,
     "metadata": {},
     "output_type": "execute_result"
    }
   ],
   "source": [
    "beta_0"
   ]
  },
  {
   "cell_type": "code",
   "execution_count": 65,
   "metadata": {},
   "outputs": [
    {
     "data": {
      "text/plain": [
       "<function matplotlib.pyplot.show(close=None, block=None)>"
      ]
     },
     "execution_count": 65,
     "metadata": {},
     "output_type": "execute_result"
    },
    {
     "data": {
      "image/png": "[encoded data removed]",
      "text/plain": [
       "<Figure size 432x288 with 1 Axes>"
      ]
     },
     "metadata": {
      "needs_background": "light"
     },
     "output_type": "display_data"
    }
   ],
   "source": [
    "y_hat = beta_0 + beta_1 * party.X #Línea de regresión\n",
    "plt.scatter(data = party, x = \"X\", y = \"Y\") # pintar los puntos\n",
    "plt.plot(party.X, y_hat, lw=2) # pintamos la línea de regresión\n",
    "plt.vlines(party.X, y_hat, party.Y , lw = 0.4) # pintamos las líneas que van desde los puntos a la línea\n",
    "plt.xlabel(\"X\")\n",
    "plt.ylabel(\"Y\")\n",
    "plt.show"
   ]
  },
  {
   "cell_type": "markdown",
   "metadata": {},
   "source": [
    "What changed? Based on the results of the two models and your graphs, what can you say about the form of the data with the problematic point and without it?"
   ]
  },
  {
   "cell_type": "code",
   "execution_count": null,
   "metadata": {},
   "outputs": [],
   "source": [
    "# Your response here. "
   ]
  }
 ],
 "metadata": {
  "kernelspec": {
   "display_name": "ironhac",
   "language": "python",
   "name": "ironhac"
  },
  "language_info": {
   "codemirror_mode": {
    "name": "ipython",
    "version": 3
   },
   "file_extension": ".py",
   "mimetype": "text/x-python",
   "name": "python",
   "nbconvert_exporter": "python",
   "pygments_lexer": "ipython3",
   "version": "3.8.2"
  }
 },
 "nbformat": 4,
 "nbformat_minor": 2
}
